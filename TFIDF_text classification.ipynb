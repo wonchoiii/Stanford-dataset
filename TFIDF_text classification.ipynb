{
 "cells": [
  {
   "cell_type": "code",
   "execution_count": 1,
   "metadata": {},
   "outputs": [],
   "source": [
    "import sys\n",
    "import pandas as pd\n",
    "import numpy as np\n",
    "import nltk\n",
    "from nltk.stem.porter import *\n",
    "from sklearn.feature_extraction.text import ENGLISH_STOP_WORDS\n",
    "import string\n",
    "from sklearn.feature_extraction.text import TfidfVectorizer\n",
    "import os\n",
    "from sklearn.linear_model import LogisticRegression"
   ]
  },
  {
   "cell_type": "code",
   "execution_count": 2,
   "metadata": {},
   "outputs": [],
   "source": [
    "path = \"/Users/wonseok/Downloads/aclImdb/train/pos/\"\n",
    "temp = []\n",
    "for file in os.listdir(path):\n",
    "    with open(os.path.join(path + file), \"r\") as f:\n",
    "        temp.append(f.read())\n",
    "        \n",
    "pos = pd.DataFrame({\"reviews\": temp, \"labels\": list(np.ones(len(temp), dtype=int))})"
   ]
  },
  {
   "cell_type": "code",
   "execution_count": 3,
   "metadata": {},
   "outputs": [],
   "source": [
    "path = \"/Users/wonseok/Downloads/aclImdb/train/neg/\"\n",
    "temp = []\n",
    "for file in os.listdir(path):\n",
    "    with open(os.path.join(path + file), \"r\") as f:\n",
    "        temp.append(f.read())\n",
    "        \n",
    "neg = pd.DataFrame({\"reviews\": temp, \"labels\": list(np.zeros(len(temp), dtype=int))})"
   ]
  },
  {
   "cell_type": "code",
   "execution_count": 4,
   "metadata": {},
   "outputs": [],
   "source": [
    "train_data = pd.concat([pos, neg], ignore_index=True)"
   ]
  },
  {
   "cell_type": "code",
   "execution_count": 5,
   "metadata": {},
   "outputs": [],
   "source": [
    "path = \"/Users/wonseok/Downloads/aclImdb/test/pos/\"\n",
    "temp = []\n",
    "for file in os.listdir(path):\n",
    "    with open(os.path.join(path + file), \"r\") as f:\n",
    "        temp.append(f.read())\n",
    "        \n",
    "pos = pd.DataFrame({\"reviews\": temp, \"labels\": list(np.ones(len(temp), dtype=int))})"
   ]
  },
  {
   "cell_type": "code",
   "execution_count": 6,
   "metadata": {},
   "outputs": [],
   "source": [
    "path = \"/Users/wonseok/Downloads/aclImdb/test/neg/\"\n",
    "temp = []\n",
    "for file in os.listdir(path):\n",
    "    with open(os.path.join(path + file), \"r\") as f:\n",
    "        temp.append(f.read())\n",
    "        \n",
    "neg = pd.DataFrame({\"reviews\": temp, \"labels\": list(np.zeros(len(temp), dtype=int))})"
   ]
  },
  {
   "cell_type": "code",
   "execution_count": 7,
   "metadata": {},
   "outputs": [],
   "source": [
    "test_data = pd.concat([pos, neg], ignore_index=True)"
   ]
  },
  {
   "cell_type": "code",
   "execution_count": 8,
   "metadata": {},
   "outputs": [],
   "source": [
    "def tokenize(text):\n",
    "    \"\"\"\n",
    "    Tokenize text and return a non-unique list of tokenized words\n",
    "    found in the text. Normalize to lowercase, strip punctuation,\n",
    "    remove stop words, drop words of length < 3, strip digits.\n",
    "    \"\"\"\n",
    "    text = text.lower()\n",
    "    text = re.sub('[' + string.punctuation + '0-9\\\\r\\\\t\\\\n]', ' ', text)\n",
    "    tokens = nltk.word_tokenize(text)\n",
    "    tokens = [w for w in tokens if len(w) > 2]  # ignore a, an, to, at, be, ...\n",
    "    tokens = [w for w in tokens if w not in ENGLISH_STOP_WORDS]\n",
    "    return tokens"
   ]
  },
  {
   "cell_type": "code",
   "execution_count": 9,
   "metadata": {},
   "outputs": [],
   "source": [
    "def stemwords(words):\n",
    "    \"\"\"\n",
    "    Given a list of tokens/words, return a new list with each word\n",
    "    stemmed using a PorterStemmer.\n",
    "    \"\"\"\n",
    "    stemmer = PorterStemmer()\n",
    "    stemmed = [stemmer.stem(w) for w in words]\n",
    "    return stemmed"
   ]
  },
  {
   "cell_type": "code",
   "execution_count": 10,
   "metadata": {},
   "outputs": [],
   "source": [
    "def tokenizer(text):\n",
    "    return stemwords(tokenize(text))"
   ]
  },
  {
   "cell_type": "code",
   "execution_count": 11,
   "metadata": {},
   "outputs": [],
   "source": [
    "def fit_corpus(train_data, test_data):\n",
    "    corpus = pd.DataFrame({\"reviews\": train_data[\"reviews\"]})\n",
    "    corpus.reviews.append(test_data[\"reviews\"], ignore_index=True)\n",
    "    tfidf = TfidfVectorizer(input='content', analyzer='word', tokenizer=tokenizer, stop_words='english', decode_error = 'ignore')\n",
    "    tfidf.fit(corpus[\"reviews\"])\n",
    "    return tfidf"
   ]
  },
  {
   "cell_type": "code",
   "execution_count": 12,
   "metadata": {},
   "outputs": [],
   "source": [
    "def transform_data(tfidf, dataset):\n",
    "    features = tfidf.transform(dataset[\"reviews\"])\n",
    "    return pd.DataFrame(features.todense(), columns = tfidf.get_feature_names())"
   ]
  },
  {
   "cell_type": "code",
   "execution_count": 13,
   "metadata": {},
   "outputs": [
    {
     "name": "stderr",
     "output_type": "stream",
     "text": [
      "/Users/wonseok/opt/anaconda3/lib/python3.7/site-packages/sklearn/feature_extraction/text.py:484: UserWarning: The parameter 'token_pattern' will not be used since 'tokenizer' is not None'\n",
      "  warnings.warn(\"The parameter 'token_pattern' will not be used\"\n"
     ]
    }
   ],
   "source": [
    "tfidf = fit_corpus(train_data, test_data)\n",
    "\n",
    "train_features = transform_data(tfidf, train_data) \n",
    "test_features = transform_data(tfidf, test_data)\n",
    "\n",
    "train_labels = train_data[\"labels\"]\n",
    "test_labels = test_data[\"labels\"]"
   ]
  },
  {
   "cell_type": "code",
   "execution_count": 14,
   "metadata": {},
   "outputs": [],
   "source": [
    "clf = LogisticRegression(random_state=0, solver='lbfgs')"
   ]
  },
  {
   "cell_type": "code",
   "execution_count": 15,
   "metadata": {},
   "outputs": [
    {
     "data": {
      "text/plain": [
       "LogisticRegression(random_state=0)"
      ]
     },
     "execution_count": 15,
     "metadata": {},
     "output_type": "execute_result"
    }
   ],
   "source": [
    "clf.fit(train_features, train_labels)"
   ]
  },
  {
   "cell_type": "code",
   "execution_count": 19,
   "metadata": {},
   "outputs": [
    {
     "data": {
      "text/plain": [
       "0.87"
      ]
     },
     "execution_count": 19,
     "metadata": {},
     "output_type": "execute_result"
    }
   ],
   "source": [
    "round(clf.score(test_features, test_labels), 2)"
   ]
  }
 ],
 "metadata": {
  "kernelspec": {
   "display_name": "Python 3",
   "language": "python",
   "name": "python3"
  },
  "language_info": {
   "codemirror_mode": {
    "name": "ipython",
    "version": 3
   },
   "file_extension": ".py",
   "mimetype": "text/x-python",
   "name": "python",
   "nbconvert_exporter": "python",
   "pygments_lexer": "ipython3",
   "version": "3.7.4"
  }
 },
 "nbformat": 4,
 "nbformat_minor": 4
}
